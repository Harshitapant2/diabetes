{
 "cells": [
  {
   "cell_type": "code",
   "execution_count": 2,
   "id": "2994aed5-cf0f-4ed5-af62-fea29b3fccaf",
   "metadata": {},
   "outputs": [
    {
     "name": "stdout",
     "output_type": "stream",
     "text": [
      "   Unnamed: 0  Age     Sex Ethnicity   BMI  Waist_Circumference  \\\n",
      "0           0   58  Female     White  35.8                 83.4   \n",
      "1           1   48    Male     Asian  24.1                 71.4   \n",
      "2           2   34  Female     Black  25.0                113.8   \n",
      "3           3   62    Male     Asian  32.7                100.4   \n",
      "4           4   27  Female     Asian  33.5                110.8   \n",
      "\n",
      "   Fasting_Blood_Glucose  HbA1c  Blood_Pressure_Systolic  \\\n",
      "0                  123.9   10.9                      152   \n",
      "1                  183.7   12.8                      103   \n",
      "2                  142.0   14.5                      179   \n",
      "3                  167.4    8.8                      176   \n",
      "4                  146.4    7.1                      122   \n",
      "\n",
      "   Blood_Pressure_Diastolic  ...  Cholesterol_HDL  Cholesterol_LDL   GGT  \\\n",
      "0                       114  ...             50.2             99.2  37.5   \n",
      "1                        91  ...             62.0            146.4  88.5   \n",
      "2                       104  ...             32.1            164.1  56.2   \n",
      "3                       118  ...             41.1             84.0  34.4   \n",
      "4                        97  ...             53.9             92.8  81.9   \n",
      "\n",
      "   Serum_Urate  Physical_Activity_Level Dietary_Intake_Calories  \\\n",
      "0          7.2                 Moderate                    1538   \n",
      "1          6.1                 Moderate                    2653   \n",
      "2          6.9                      Low                    1684   \n",
      "3          5.4                      Low                    3796   \n",
      "4          7.4                 Moderate                    3161   \n",
      "\n",
      "   Alcohol_Consumption Smoking_Status Family_History_of_Diabetes  \\\n",
      "0             Moderate          Never                          0   \n",
      "1             Moderate        Current                          0   \n",
      "2                Heavy         Former                          1   \n",
      "3             Moderate          Never                          1   \n",
      "4                Heavy        Current                          0   \n",
      "\n",
      "   Previous_Gestational_Diabetes  \n",
      "0                              1  \n",
      "1                              1  \n",
      "2                              0  \n",
      "3                              0  \n",
      "4                              0  \n",
      "\n",
      "[5 rows x 21 columns]\n"
     ]
    }
   ],
   "source": [
    "import pandas as pd\n",
    "data = pd.read_csv(\"C:/Users/Harsh/OneDrive/Desktop/Harshita Pant B1 30/diabetes_dataset.csv\")\n",
    "print(data.head())"
   ]
  },
  {
   "cell_type": "code",
   "execution_count": 13,
   "id": "8762b308-84f8-48aa-a813-87a205f3fd89",
   "metadata": {},
   "outputs": [],
   "source": [
    "import pandas as pd\n",
    "import numpy as np\n",
    "from sklearn.svm import SVC\n",
    "from sklearn.model_selection import train_test_split\n",
    "from sklearn.preprocessing import LabelEncoder\n",
    "from sklearn.metrics import classification_report,accuracy_score\n",
    "df=pd.read_csv(\"C:/Users/Harsh/OneDrive/Desktop/Harshita Pant B1 30/diabetes_dataset.csv\")\n",
    "df['Diabetes_Risk']=np.where((df['HbA1c']>=6.5)|(df['Fasting_Blood_Glucose']>=126),1,0)\n",
    "if 'Unnamed:0' in df.columns:\n",
    "    df_cleaned=df.drop(columns=['Unnamed:0'])\n",
    "else:\n",
    "    df_cleaned=df.copy()\n",
    "categorical_cols=df_cleaned.select_dtypes(include='object').columns\n",
    "label_encoders={}"
   ]
  },
  {
   "cell_type": "code",
   "execution_count": 14,
   "id": "69d81abf-fe67-44ff-ad79-357efb2ab752",
   "metadata": {},
   "outputs": [
    {
     "name": "stdout",
     "output_type": "stream",
     "text": [
      "Accuracy: 0.9095\n"
     ]
    }
   ],
   "source": [
    "\n",
    "for col in categorical_cols:\n",
    "    le=LabelEncoder()\n",
    "    df_cleaned[col]=le.fit_transform(df_cleaned[col])\n",
    "    label_encoders[col]=le\n",
    "X=df_cleaned.drop(columns=['Diabetes_Risk'])\n",
    "Y=df_cleaned['Diabetes_Risk']\n",
    "X_train,X_test,Y_train,Y_test=train_test_split(X,Y,test_size=0.2,random_state=42)\n",
    "svm_model=SVC()\n",
    "svm_model.fit(X_train,Y_train)\n",
    "Y_pred=svm_model.predict(X_test)\n",
    "print(\"Accuracy:\",accuracy_score(Y_test,Y_pred))\n",
    "    \n",
    "\n",
    "\n"
   ]
  },
  {
   "cell_type": "code",
   "execution_count": null,
   "id": "7a6a9b8b-fdf3-45f7-9c76-b2ecb1962bb5",
   "metadata": {},
   "outputs": [],
   "source": []
  },
  {
   "cell_type": "code",
   "execution_count": null,
   "id": "be4749be-630a-4252-9317-68b881592b3d",
   "metadata": {},
   "outputs": [],
   "source": []
  }
 ],
 "metadata": {
  "kernelspec": {
   "display_name": "Python 3 (ipykernel)",
   "language": "python",
   "name": "python3"
  },
  "language_info": {
   "codemirror_mode": {
    "name": "ipython",
    "version": 3
   },
   "file_extension": ".py",
   "mimetype": "text/x-python",
   "name": "python",
   "nbconvert_exporter": "python",
   "pygments_lexer": "ipython3",
   "version": "3.12.0rc3"
  }
 },
 "nbformat": 4,
 "nbformat_minor": 5
}
