{
 "cells": [
  {
   "cell_type": "code",
   "execution_count": 1,
   "id": "8762b308-84f8-48aa-a813-87a205f3fd89",
   "metadata": {},
   "outputs": [],
   "source": [
    "import pandas as pd\n",
    "import numpy as np\n",
    "from sklearn.svm import SVC\n",
    "from sklearn.model_selection import train_test_split\n",
    "from sklearn.preprocessing import LabelEncoder\n",
    "from sklearn.metrics import classification_report,accuracy_score\n",
    "df=pd.read_csv(\"C:/Users/Harsh/OneDrive/Desktop/Harshita Pant B1 30/diabetes_dataset.csv\")\n",
    "df['Diabetes_Risk']=np.where((df['HbA1c']>=6.5)|(df['Fasting_Blood_Glucose']>=126),1,0)\n",
    "if 'Unnamed:0' in df.columns:\n",
    "    df_cleaned=df.drop(columns=['Unnamed:0'])\n",
    "else:\n",
    "    df_cleaned=df.copy()\n",
    "categorical_cols=df_cleaned.select_dtypes(include='object').columns\n",
    "label_encoders={}"
   ]
  },
  {
   "cell_type": "code",
   "execution_count": 2,
   "id": "69d81abf-fe67-44ff-ad79-357efb2ab752",
   "metadata": {},
   "outputs": [
    {
     "name": "stdout",
     "output_type": "stream",
     "text": [
      "Accuracy: 0.9095\n"
     ]
    }
   ],
   "source": [
    "\n",
    "for col in categorical_cols:\n",
    "    le=LabelEncoder()\n",
    "    df_cleaned[col]=le.fit_transform(df_cleaned[col])\n",
    "    label_encoders[col]=le\n",
    "X=df_cleaned.drop(columns=['Diabetes_Risk'])\n",
    "Y=df_cleaned['Diabetes_Risk']\n",
    "X_train,X_test,Y_train,Y_test=train_test_split(X,Y,test_size=0.2,random_state=42)\n",
    "svm_model=SVC()\n",
    "svm_model.fit(X_train,Y_train)\n",
    "Y_pred=svm_model.predict(X_test)\n",
    "print(\"Accuracy:\",accuracy_score(Y_test,Y_pred))\n",
    "    \n",
    "\n",
    "\n"
   ]
  },
  {
   "cell_type": "code",
   "execution_count": null,
   "id": "7a6a9b8b-fdf3-45f7-9c76-b2ecb1962bb5",
   "metadata": {},
   "outputs": [],
   "source": []
  },
  {
   "cell_type": "code",
   "execution_count": null,
   "id": "be4749be-630a-4252-9317-68b881592b3d",
   "metadata": {},
   "outputs": [],
   "source": []
  }
 ],
 "metadata": {
  "kernelspec": {
   "display_name": "Python 3 (ipykernel)",
   "language": "python",
   "name": "python3"
  },
  "language_info": {
   "codemirror_mode": {
    "name": "ipython",
    "version": 3
   },
   "file_extension": ".py",
   "mimetype": "text/x-python",
   "name": "python",
   "nbconvert_exporter": "python",
   "pygments_lexer": "ipython3",
   "version": "3.12.0rc3"
  }
 },
 "nbformat": 4,
 "nbformat_minor": 5
}
